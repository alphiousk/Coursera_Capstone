{
 "cells": [
  {
   "cell_type": "markdown",
   "metadata": {},
   "source": [
    "# FINDING A LOCATION TO OPEN A COFFEE SHOP IN HOBART USING INCOME AND VENUES DATA FOR GREATER HOBART NEIGHBOURHOODS"
   ]
  },
  {
   "cell_type": "markdown",
   "metadata": {},
   "source": [
    "## Applied Data Science Capstone by IBM/Coursera"
   ]
  },
  {
   "cell_type": "markdown",
   "metadata": {},
   "source": [
    "## Table of contents\n",
    "* [Introduction](#introduction)\n",
    "* [Data](#data)\n",
    "* [Methodology](#methodology)\n",
    "* [Analysis](#analysis)\n",
    "* [Results](#results)\n",
    "* [Discussion](#discussions)\n",
    "* [Conclusion](#conclusion)\n",
    "* [References](#references)"
   ]
  },
  {
   "cell_type": "code",
   "execution_count": null,
   "metadata": {},
   "outputs": [],
   "source": []
  },
  {
   "cell_type": "markdown",
   "metadata": {},
   "source": [
    "## 1. Introduction <a name=\"introduction\"></a>"
   ]
  },
  {
   "cell_type": "markdown",
   "metadata": {},
   "source": [
    "### 1.1.\tProblem Description\n",
    "\n",
    "    It is well known that the location of shop is an important factor in determining its success. In addition to researching the coffee business, competition, defining your vision and planning food and drinks menu as well as decor, it is important to seriously consider the location of your shop. The requirement for a shop location is based on multiple factors including it’s closeness and diversity of nearby venues, demographics of the neighbourhood, closeness to businesses, schools and hospitals and availability of parking or closeness to transport. People who regularly visit a coffee shop live or work 5-10minutes walk from the location. Other considerations include corner of location and rental rates. My client is interested in opening coffee shop in Hobart and has the following location requirements:\n",
    "    i.\tIt must be close to other venues but avoid locations already with high concentration of similar businesses i.e. coffee shops. The more diverse a location is the better.\n",
    "    ii.\tChoose neighbourhood with residents who have time and money to regularly spend on coffee\n",
    "\n",
    "    The project is to find a good neighbourhood to open a coffee shop. I will use income data to select affluent neighbourhoods.  Then use venues data to identify top 3 neighbourhoods with preferred combination of number of venues and the diversity venues. \n",
    "\n",
    "\n",
    "\n",
    "### 1.2.\tAbout Hobart, Tasmania, Australia\n",
    "\n",
    "    Hobart is the capital city of Tasmania, a small island state of Australia. It is known for its natural beauty, clean air and waters. Its backdrop is Mount wellington with hiking and cycling trails. It is the smallest state capital with a population of 240,000. The city offers resident and tourists with has great selection of food and wine. Greater Hobart is divided into 6 regions called Local Government Areas. These are the cities of Hobart, Glenorchy and Clarence, as well as municipalities of Kingborough, Brighton, Sorell. Each LGAs has localities called suburbs. Some suburbs near each other share post codes.\n"
   ]
  },
  {
   "cell_type": "markdown",
   "metadata": {},
   "source": [
    "## 2. Data <a name=\"data\"></a>"
   ]
  },
  {
   "cell_type": "markdown",
   "metadata": {},
   "source": [
    "### 2.1.\tNeighbourhoods data: \n",
    "\n",
    "    A dataframe with Post codes, neighbourhoods, their coordinates and income will be created by merging data from different sources\n",
    " \n",
    "    2.1.1. Second-level Administrative Divisions (LGAs) and localities\n",
    "    The data was scraped from Wikipedia page, ‘List of localities in Tasmania’ [1]. Resulting in dataframe with Neighbourhood, post code and LGA columns. The 6 LGSAs for Greater Hobart was selected. The localities also known as suburbs or neighbourhoods are non-overlapping locations in the LGA. \n",
    "\n",
    "    2.1.2. Coordinates data\n",
    "    A CSV file was downloaded from Matthew proctor’s website, page Australian Postcodes Database [2]. Last updated 16 May 2020. The csv file has coordinates for each postcode/localities and arranged in states. From the data, the localities sharing postcodes also shared coordinates. This meant that postcode will be used to represent a neighbourhood and the neighbourhoods sharing a post code will be grouped.\n",
    "\n",
    "### 2.2.\tIncome data \n",
    "\n",
    "    The income data file, Total Income by LGA (2011-12 to 2016-17), published in 2019, was downloaded from Australian Bureau of Statistics website [3]. The xls file was cleaned to select 2016/17 columns and only LGA, median age, median income, and mean income columns and only Greater Hobart LGAs were selected. This will be used to select 3 top LGA to be used further.\n",
    "\n",
    "\n",
    "### 2.3.\tVenues data\n",
    "\n",
    "    I used Foursquare API to get venues in the chosen neighbourhoods.\n"
   ]
  },
  {
   "cell_type": "markdown",
   "metadata": {},
   "source": [
    "## References <a name=\"references\"></a>"
   ]
  },
  {
   "cell_type": "markdown",
   "metadata": {},
   "source": [
    "1.\tWikipedia - https://en.wikipedia.org/wiki/List_of_localities_in_Tasmania\n",
    "2.\tMatthew Proctor - https://www.matthewproctor.com/australian_postcodes\n",
    "3.\tAustralian Bureau of Statistics -https://www.abs.gov.au/AUSSTATS/abs@.nsf/DetailsPage/6524.0.55.0022011-12%20to%202016-17?OpenDocument\n"
   ]
  },
  {
   "cell_type": "code",
   "execution_count": null,
   "metadata": {},
   "outputs": [],
   "source": []
  }
 ],
 "metadata": {
  "kernelspec": {
   "display_name": "Python 3",
   "language": "python",
   "name": "python3"
  },
  "language_info": {
   "codemirror_mode": {
    "name": "ipython",
    "version": 3
   },
   "file_extension": ".py",
   "mimetype": "text/x-python",
   "name": "python",
   "nbconvert_exporter": "python",
   "pygments_lexer": "ipython3",
   "version": "3.7.6"
  }
 },
 "nbformat": 4,
 "nbformat_minor": 4
}
